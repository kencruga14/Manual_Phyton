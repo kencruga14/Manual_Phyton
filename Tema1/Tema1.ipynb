{
 "cells": [
  {
   "cell_type": "markdown",
   "metadata": {},
   "source": [
    "# ***INTRODUCCIÓN A PYTHON.***   "
   ]
  },
  {
   "cell_type": "markdown",
   "metadata": {},
   "source": [
    "# _Comentarios_.\n",
    "\n",
    "Para comentarios de una línea usamos \"#\" al iniciar el comentario.\n",
    "\n"
   ]
  },
  {
   "cell_type": "code",
   "execution_count": null,
   "metadata": {},
   "outputs": [],
   "source": [
    "# Esto es un comentario."
   ]
  },
  {
   "cell_type": "markdown",
   "metadata": {},
   "source": [
    "\n",
    "\"\"\" Para comentar varias líneas utilizamos\n",
    " triple comillas dobles, al inicio y al final del comentario.\n",
    "\"\"\"  "
   ]
  },
  {
   "cell_type": "markdown",
   "metadata": {},
   "source": [
    "# _Impresión de variables_.\n",
    "\n",
    "Para imprimir una variable utilizamos la palabra reservada print los mensajes los colocamos entre comillas dobles.   \n",
    "Ejemplos:"
   ]
  },
  {
   "cell_type": "code",
   "execution_count": 42,
   "metadata": {},
   "outputs": [
    {
     "name": "stdout",
     "output_type": "stream",
     "text": [
      "Esto es una variable numérica: 1059\n",
      "Esto es una cadena de texto: Hola como estas?\n"
     ]
    }
   ],
   "source": [
    "# Impresion de una variable concatenando una variable numérica.\n",
    "print(\"Esto es una variable numérica: \" + str(1059))\n",
    "\n",
    "# Impresion de una variable concatenando varias cadenas de texto.\n",
    "print(\"Esto es una cadena de texto: \" + \"Hola como estas?\")"
   ]
  },
  {
   "cell_type": "markdown",
   "metadata": {},
   "source": [
    "# Variables\n",
    "\n",
    "\n",
    "### * Tipos de Datos en las variables."
   ]
  },
  {
   "cell_type": "code",
   "execution_count": 68,
   "metadata": {},
   "outputs": [
    {
     "name": "stdout",
     "output_type": "stream",
     "text": [
      "Variable numérica: 1104\n",
      "Variable decimal: (3, 1415)\n",
      "Cadena de texto: Hola como estas?\n"
     ]
    }
   ],
   "source": [
    "# Variable numérica.\n",
    "variable_numerica = 1104\n",
    "\n",
    "# Variable decimal.\n",
    "π = 3,1415\n",
    "\n",
    "# variable cadena de texto (String).\n",
    "variable_Cadena_Texto = \"Hola como estas?\"\n",
    "\n",
    "#Imprimimos los resultados.\n",
    "print(\"Variable numérica: \" + str(variable_numerica))\n",
    "print(\"Variable decimal: \" + str(π))\n",
    "print(\"Cadena de texto: \" + variable_Cadena_Texto)"
   ]
  },
  {
   "cell_type": "markdown",
   "metadata": {},
   "source": [
    "### * Sensibilidad de Nombres.\n",
    "\n",
    "Las variables en Pyhton son sensibles a Mayúsculas.   \n",
    "Ejemplos:"
   ]
  },
  {
   "cell_type": "code",
   "execution_count": 67,
   "metadata": {},
   "outputs": [
    {
     "name": "stdout",
     "output_type": "stream",
     "text": [
      "Esta variable está en : Mayúsculas\n",
      "Esta variable está en : minúsculas\n"
     ]
    }
   ],
   "source": [
    "Variable = \"Mayúsculas\"\n",
    "variable = \"minúsculas\"\n",
    "\n",
    "print(\"Esta variable está en : \" + Variable)\n",
    "print(\"Esta variable está en : \" + variable)"
   ]
  },
  {
   "cell_type": "markdown",
   "metadata": {},
   "source": [
    "### * Variables Constantes.   \n",
    "\n",
    "Para declarar una variable constante declaramos la variable en Mayúsculas.   \n",
    "Ejemplo:"
   ]
  },
  {
   "cell_type": "code",
   "execution_count": 19,
   "metadata": {},
   "outputs": [
    {
     "name": "stdout",
     "output_type": "stream",
     "text": [
      "Variable constante: 1110\n"
     ]
    }
   ],
   "source": [
    "CONSTANTE = 1110\n",
    "print(\"Variable constante: \" + str(CONSTANTE))"
   ]
  },
  {
   "cell_type": "markdown",
   "metadata": {},
   "source": [
    "### * Conocer el tipo de Dato de una Variable.\n",
    "Para saber que tipo de dato es una variable utilizamos la palabra reservada type.   \n",
    "Ejemplos:"
   ]
  },
  {
   "cell_type": "code",
   "execution_count": 35,
   "metadata": {
    "scrolled": true
   },
   "outputs": [
    {
     "name": "stdout",
     "output_type": "stream",
     "text": [
      "<class 'str'>\n",
      "<class 'int'>\n"
     ]
    }
   ],
   "source": [
    "# la palabra type va antes de la constante.\n",
    "print(type(variable))\n",
    "print(type(CONSTANTE))"
   ]
  },
  {
   "cell_type": "markdown",
   "metadata": {},
   "source": [
    "### * Conversiones de Tipo de Datos.\n",
    "Python incluye una gran variedad de funciones nativas para realizar distintas operaciones.\n",
    "Ejemplos:"
   ]
  },
  {
   "cell_type": "code",
   "execution_count": 4,
   "metadata": {},
   "outputs": [
    {
     "name": "stdout",
     "output_type": "stream",
     "text": [
      "De Real a String 11.2\n",
      "11\n",
      "True\n",
      "11.2\n"
     ]
    }
   ],
   "source": [
    "# Variable constante\n",
    "numero_real = 11.20\n",
    "\n",
    "# Conversion a String\n",
    "print(\"De Real a String \" + str(numero_real))\n",
    "\n",
    "# Conversión a Int\n",
    "print(int(numero_real))\n",
    "\n",
    "# Conversión a Boolean\n",
    "print(bool(numero_real))\n",
    "\n",
    "# Conversión a Float\n",
    "print(float(numero_real))"
   ]
  },
  {
   "cell_type": "markdown",
   "metadata": {},
   "source": [
    "# Tipo de Datos Complejos.\n",
    "\n",
    "Existen tipos de datos complejos como por ejemplo tuplas, listas y conjuntos y cadenas de caracteres.\n",
    "\n",
    "### * Cadena de Texto.\n",
    "Una cadena de caracteres en un objeto que consiste precisamente en una serie de signos o caracteres."
   ]
  },
  {
   "cell_type": "code",
   "execution_count": 40,
   "metadata": {},
   "outputs": [
    {
     "name": "stdout",
     "output_type": "stream",
     "text": [
      "o\n",
      "Esto \n",
      "27\n"
     ]
    }
   ],
   "source": [
    "# declaramos una cadena de texto\n",
    "cadena = \"Esto es una cadena de Texto\"\n",
    "print(cadena[3]) # Muestra el dato de la posicion 4 de la cadena.\n",
    "print(cadena[0:5]) #Muestra los datos desde la posicion 0 hasta la posición.\n",
    "print(len(cadena)) #Muestra la longitud de la cadena de texto."
   ]
  },
  {
   "cell_type": "markdown",
   "metadata": {},
   "source": [
    "### * Conjuntos.\n",
    "Un conjunto es una colección no ordenada de objetos únicos. Python provee este tipo de datos por defecto."
   ]
  },
  {
   "cell_type": "code",
   "execution_count": 47,
   "metadata": {},
   "outputs": [
    {
     "name": "stdout",
     "output_type": "stream",
     "text": [
      "{'Perú', 'Venezuela', 'Ecuador', 'Colombia', 'Bolivia'}\n",
      "Perú\n",
      "{'Chile', 'Venezuela', 'Ecuador', 'Colombia', 'Bolivia'}\n"
     ]
    }
   ],
   "source": [
    "# Declaramos un conjunto.\n",
    "paises ={'Ecuador', 'Colombia', 'Perú', 'Venezuela', 'Bolivia'}\n",
    "\n",
    "print(paises) #Imprimimos los elementos edl conjunto.\n",
    "print(paises.pop()) # Elimina el primer elemento del conjunto.\n",
    "paises.add(\"Chile\") # Agregamos un nuevo elemento a la lista con la función add.\n",
    "print(paises)"
   ]
  },
  {
   "cell_type": "markdown",
   "metadata": {},
   "source": [
    "### * Listas.\n",
    "Es una estructura de datos y un tipo de dato en python con características especiales. Lo especial de las listas en Python es que nos permiten almacenar cualquier tipo de valor como enteros, cadenas y hasta otras funciones"
   ]
  },
  {
   "cell_type": "code",
   "execution_count": 53,
   "metadata": {},
   "outputs": [
    {
     "name": "stdout",
     "output_type": "stream",
     "text": [
      "['Perro', 'Gato', 'Pato', 'Gallina', 'Vaca']\n",
      "{'Vaca', 'Pato', 'Gato', 'Perro', 'Gallina'}\n",
      "3\n"
     ]
    }
   ],
   "source": [
    "# Declaramos una Lista\n",
    "\n",
    "animales = ['Perro', 'Gato', 'Pato', 'Gallina', 'Vaca']\n",
    "\n",
    "print(animales) #Imprimimos los elementos de la Lista.\n",
    "granja = set(animales) # Asignamos una lista a una variable.\n",
    "print(granja) # Imprimimos nuestra variable que contiene  la lista animales\n",
    "print(animales.index(\"Gallina\")) # Obtemos la posición del elemento Gallina."
   ]
  },
  {
   "cell_type": "markdown",
   "metadata": {},
   "source": [
    "### * Tuplas.   \n",
    "Una tupla es un conjunto ordenado e inmutable de elementos del mismo o diferente tipo."
   ]
  },
  {
   "cell_type": "code",
   "execution_count": 58,
   "metadata": {},
   "outputs": [
    {
     "name": "stdout",
     "output_type": "stream",
     "text": [
      "('amarillo', 'azul', 'rojo', 'verde', 'negro')\n",
      "5\n",
      "azul\n"
     ]
    }
   ],
   "source": [
    "# Declaramos una tupla.\n",
    "tupla = ('amarillo', 'azul', 'rojo', 'verde', 'negro') \n",
    "\n",
    "print(tupla) # Imprimimos los elementos de la tupla.\n",
    "print(len(tupla)) # La palabra reservada len nos devuelve el numéro de elementos que hay en la tupla.\n",
    "print(tupla[1]) # Muestra el elemento en la posición defininda."
   ]
  },
  {
   "cell_type": "markdown",
   "metadata": {},
   "source": [
    "### * Diccionario.   \n",
    "Permite identificar a sus elementos a través de una clave.   \n",
    "Ejemplo:   "
   ]
  },
  {
   "cell_type": "code",
   "execution_count": 66,
   "metadata": {},
   "outputs": [
    {
     "name": "stdout",
     "output_type": "stream",
     "text": [
      "{'nombre': 'Kenny', 'edad': 26, 'pasatiempos': ['Caminar', 'Videojuegos', 'Tenis']}\n",
      "Kenny\n",
      "Tenis\n"
     ]
    }
   ],
   "source": [
    "# Declaramos un diccionario.\n",
    "cliente = {'nombre' : 'Kenny', 'edad':26, 'pasatiempos': ['Caminar', 'Videojuegos', 'Tenis']}\n",
    "\n",
    "print(cliente)\n",
    "print(cliente['nombre'])\n",
    "print(cliente['pasatiempos'][2])"
   ]
  },
  {
   "cell_type": "markdown",
   "metadata": {},
   "source": [
    "#  Condicionales.   \n",
    "Estas construcciones permiten condicionar la ejecución de uno o varios bloques de sentencias al cumplimiento de una o varias condiciones.   "
   ]
  },
  {
   "cell_type": "code",
   "execution_count": 5,
   "metadata": {},
   "outputs": [
    {
     "name": "stdout",
     "output_type": "stream",
     "text": [
      "El número 3 es positivo\n"
     ]
    }
   ],
   "source": [
    "# Condicional If, Else\n",
    "numero= 3\n",
    "\n",
    "if numero == 0:\n",
    "    print(\"Ingrese otro número que sea diferente a 0\")\n",
    "elif  numero > 0:\n",
    "    print(\"El número \" + str(numero) + \" es positivo\")\n",
    "else:\n",
    "    print(\"El número \" +str(numero) + \" es negativo\") "
   ]
  },
  {
   "cell_type": "markdown",
   "metadata": {},
   "source": [
    "# Bucles.   \n",
    "Un bucle es una estructura de control que repite un bloque de instrucciones."
   ]
  },
  {
   "cell_type": "code",
   "execution_count": 24,
   "metadata": {},
   "outputs": [
    {
     "name": "stdout",
     "output_type": "stream",
     "text": [
      "El número es: 0\n",
      "El número es: 1\n",
      "El número es: 2\n",
      "El número es: 3\n",
      "El número es: 4\n",
      "El número es: 5\n",
      "El número es: 6\n",
      "El número es: 7\n"
     ]
    }
   ],
   "source": [
    "#Bucle For.\n",
    "for valor in range(8):\n",
    "    print(\"El número es: \" + str(valor))"
   ]
  },
  {
   "cell_type": "code",
   "execution_count": 6,
   "metadata": {},
   "outputs": [
    {
     "name": "stdout",
     "output_type": "stream",
     "text": [
      "El número es 0\n",
      "El número es 1\n",
      "El número es 2\n",
      "El número es 3\n",
      "El número es 4\n"
     ]
    }
   ],
   "source": [
    "# Bucle While.\n",
    "valor = 0\n",
    "while (valor <5):\n",
    "    print(\"El número es \" + str(valor))\n",
    "    valor =  valor + 1 "
   ]
  },
  {
   "cell_type": "markdown",
   "metadata": {},
   "source": [
    "# Funciones.\n",
    "Una función es un bloque de código con un nombre asociado, que recibe cero o más argumentos como entrada, sigue una secuencia de sentencias, la cuales ejecuta una operación deseada y devuelve un valor y/o realiza una tarea, este bloque puede ser llamados cuando se necesite."
   ]
  },
  {
   "cell_type": "code",
   "execution_count": 7,
   "metadata": {},
   "outputs": [
    {
     "name": "stdout",
     "output_type": "stream",
     "text": [
      "El número -15 es negativo\n",
      "El número 99 es positivo\n",
      "Función del Descuento \n",
      "42.5---72.8\n"
     ]
    }
   ],
   "source": [
    "#Función para saber si un número es positivo o negativo.\n",
    "#Esta función recibe un parametro para poder ejecutarse.\n",
    "def positivo_negativo(numero):\n",
    "    if numero == 0:\n",
    "        print(\"Ingrese otro número que sea diferente a 0\")\n",
    "    elif  numero > 0:\n",
    "        print(\"El número \" + str(numero) + \" es positivo\")\n",
    "    else:\n",
    "        print(\"El número \" +str(numero) + \" es negativo\") \n",
    "    \n",
    "# Llamamos a la función.\n",
    "positivo_negativo(-15)\n",
    "positivo_negativo(99)   \n",
    "\n",
    "# Funciones que devuelven varios valores\n",
    "\n",
    "def descuento(edad,precio):\n",
    "    if edad >= 65:\n",
    "        descuento = precio/2\n",
    "        total = precio-descuento\n",
    "        return total\n",
    "    else: \n",
    "        iva = (precio*12)/100\n",
    "        total_pagar = precio + iva\n",
    "        return total_pagar\n",
    "\n",
    "# Llamada a la función descuento.\n",
    "prueba1 = descuento(65,85) # Funcion con Descuento.\n",
    "prueba2 = descuento(25,65) # Función sin Descuento.\n",
    "print(\"Función del Descuento \")\n",
    "print(str(prueba1) + \"---\" + str(prueba2))"
   ]
  },
  {
   "cell_type": "markdown",
   "metadata": {},
   "source": [
    "# Objetos.\n",
    "Los objetos almacenan información y realizan tareas!!. Entonces estos atributos pueden llamarse las características que nosotros definimos para ese objeto."
   ]
  },
  {
   "cell_type": "code",
   "execution_count": 26,
   "metadata": {},
   "outputs": [
    {
     "name": "stdout",
     "output_type": "stream",
     "text": [
      "Luis se matriculó en Sexto semestre\n",
      "None\n"
     ]
    }
   ],
   "source": [
    "# Declaramos un Objeto\n",
    "class Estudiante:\n",
    "    \n",
    "    def __init__(self,nombre,nivel):\n",
    "        self.nombre = nombre\n",
    "        self.nivel = nivel\n",
    "\n",
    "    def matricula(self):\n",
    "            print(self.nombre + \" se matriculó en \" + self.nivel + \" semestre\")\n",
    "    \n",
    "        \n",
    "# Creación de Objetos y enviamos los parametros \n",
    "estudiante = Estudiante(\"Luis\",\"Sexto\")\n",
    "\n",
    "#Impresión del objeto estudiante con su método matricula\n",
    "print(estudiante.matricula())"
   ]
  },
  {
   "cell_type": "markdown",
   "metadata": {},
   "source": [
    "# Visualización de Datos con Matplotlib.\n",
    "Matplotlib proporciona una manera muy rápida de visualizar datos y figuras con calidad de publicación en varios formatos."
   ]
  },
  {
   "cell_type": "code",
   "execution_count": 6,
   "metadata": {},
   "outputs": [
    {
     "data": {
      "image/png": "[encoded data removed]",
      "text/plain": [
       "<Figure size 432x288 with 1 Axes>"
      ]
     },
     "metadata": {
      "needs_background": "light"
     },
     "output_type": "display_data"
    }
   ],
   "source": [
    "# Gráfico Lineal\n",
    "\n",
    "import matplotlib.pyplot as plt\n",
    "x = (13,38,46,52,65) # Valores del eje X.\n",
    "y = (6,14,35,47,59) # Valores del eje Y.\n",
    "plt.plot(x,y) # Realiza el Gráfico.ZZZ\n",
    "plt.grid() # Dibuja las celdas del Gráfico.\n",
    "plt.show() # Procedimineto que dibuja el Gráfico.\n"
   ]
  },
  {
   "cell_type": "code",
   "execution_count": 17,
   "metadata": {},
   "outputs": [
    {
     "data": {
      "image/png": "[encoded data removed]",
      "text/plain": [
       "<Figure size 432x288 with 1 Axes>"
      ]
     },
     "metadata": {
      "needs_background": "light"
     },
     "output_type": "display_data"
    }
   ],
   "source": [
    "# Importamos numpy y matplotlib.pyplot y colocamos un alias en este caso np y plt\n",
    "import matplotlib.pyplot as plt\n",
    "import numpy as np \n",
    "\n",
    "a = np.linspace(1,15,56)\n",
    "b = np.sin(a)\n",
    "plt.figure()\n",
    "plt.subplot(2,2,1)\n",
    "plt.plot(a, b,'b')\n",
    "plt.show()\n",
    "\n"
   ]
  },
  {
   "cell_type": "code",
   "execution_count": 23,
   "metadata": {},
   "outputs": [
    {
     "data": {
      "image/png": "[encoded data removed]",
      "text/plain": [
       "<Figure size 432x288 with 1 Axes>"
      ]
     },
     "metadata": {
      "needs_background": "light"
     },
     "output_type": "display_data"
    }
   ],
   "source": [
    "# Gráfico de Barra.\n",
    "paises = ['EEUU', 'BRASIL', 'REINO UNIDO', 'ITALIA', 'PERÚ', 'ECUADOR']\n",
    "fallecidos = [121225, 52645, 43011, 34675, 8404, 7224]\n",
    "plt.bar(range(6), fallecidos, edgecolor='black')\n",
    "plt.xticks(range(6), paises, rotation=60)\n",
    "plt.title(\"Fallecidos por Covid-19\") # Título del Gráfico.\n",
    "plt.ylim(min(fallecidos)-1, max(fallecidos)+1) # Función para establecer límites.\n",
    "plt.show() # Dibuja la Gráfica.\n"
   ]
  },
  {
   "cell_type": "markdown",
   "metadata": {},
   "source": [
    "## Elaborado por: Kenny Cruz García."
   ]
  },
  {
   "cell_type": "code",
   "execution_count": null,
   "metadata": {},
   "outputs": [],
   "source": []
  }
 ],
 "metadata": {
  "kernelspec": {
   "display_name": "Python 3",
   "language": "python",
   "name": "python3"
  },
  "language_info": {
   "codemirror_mode": {
    "name": "ipython",
    "version": 3
   },
   "file_extension": ".py",
   "mimetype": "text/x-python",
   "name": "python",
   "nbconvert_exporter": "python",
   "pygments_lexer": "ipython3",
   "version": "3.7.6"
  }
 },
 "nbformat": 4,
 "nbformat_minor": 4
}
