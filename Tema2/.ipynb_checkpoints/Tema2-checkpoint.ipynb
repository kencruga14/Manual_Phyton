{
 "cells": [
  {
   "cell_type": "markdown",
   "metadata": {},
   "source": [
    "# **Introducción a Pyhton Tema 2**"
   ]
  },
  {
   "cell_type": "markdown",
   "metadata": {},
   "source": [
    "**Principios básicos del aprendizaje automático con Python**  \n",
    "   \n",
    "  Librerías más conocidas de Python:\n",
    "  \n",
    "  * NumPy: Cálculo matricial.\n",
    "  * SciPy: Calcula transformaciones de Fourier.\n",
    "  * Pandas: Limpia, formatea y preocesa datos.\n",
    "  * Matplotlib: Genera gráficos.\n",
    "  * Scikit Learn for Machine Learning: Modelado estadístico.\n",
    "  * Statsmodels: Enfocado al modelado estadístico.\n",
    "  * Seaborn: Visualización basada en Matplotlib.\n",
    "  * Bokeh: Creación gráficos interactivos y dinámicos.\n",
    "  * Blaze: Facilita el tratamiento de datos distribuidos.\n",
    "  * Scrapy: Extracción de datos en páginas web.\n",
    "  * SymPy: Programación simbólica.\n",
    "  * Requests: Interactuan con la web \n",
    "  * Urllib2: Interactuan con la web."
   ]
  },
  {
   "cell_type": "code",
   "execution_count": 25,
   "metadata": {},
   "outputs": [
    {
     "name": "stdout",
     "output_type": "stream",
     "text": [
      "La version de numpy es:  1.18.1\n",
      "------------------------\n",
      "Dimensiones de un vector\n",
      "[[ 0  1  2  3]\n",
      " [ 4  5  6  7]\n",
      " [ 8  9 10 11]]\n",
      "------------------------\n",
      "Vector de números complejos\n",
      "[[5.+0.j 1.+0.j]\n",
      " [6.+0.j 9.+0.j]]\n"
     ]
    }
   ],
   "source": [
    "import numpy as np\n",
    "print(\"La version de numpy es: \", np.__version__)\n",
    "print(\"------------------------\")\n",
    "      \n",
    "# Dimensiones de un vector\n",
    "a = np.array([[0,1,2,3], [4,5,6,7],[8,9,10,11]])\n",
    "rows, cols = np.shape(a)\n",
    "print(\"Dimensiones de un vector\")\n",
    "print(a)\n",
    "print(\"------------------------\")\n",
    "      \n",
    "# Vector de números Complejos\n",
    "b = np.array([[5,1], [6,9]], dtype = np.complex64)\n",
    "print(\"Vector de números complejos\")\n",
    "print(b)"
   ]
  },
  {
   "cell_type": "markdown",
   "metadata": {},
   "source": [
    "**Inicialización de Vectores**"
   ]
  },
  {
   "cell_type": "code",
   "execution_count": 28,
   "metadata": {},
   "outputs": [
    {
     "name": "stdout",
     "output_type": "stream",
     "text": [
      "Vector a 0\n",
      "[[0. 0. 0. 0. 0. 0.]\n",
      " [0. 0. 0. 0. 0. 0.]\n",
      " [0. 0. 0. 0. 0. 0.]\n",
      " [0. 0. 0. 0. 0. 0.]\n",
      " [0. 0. 0. 0. 0. 0.]]\n",
      "------------------------------\n",
      "Zeros like\n",
      "[[0.+0.j 0.+0.j]\n",
      " [0.+0.j 0.+0.j]]\n",
      "------------------------------\n",
      "Empty\n",
      "[[0.0000000e+000 0.0000000e+000 0.0000000e+000 0.0000000e+000]\n",
      " [0.0000000e+000 5.1778080e-321 1.3796232e-306 1.2906087e-306]]\n",
      "------------------------------\n",
      "Eye\n",
      "[[1. 0. 0. 0.]\n",
      " [0. 1. 0. 0.]\n",
      " [0. 0. 1. 0.]\n",
      " [0. 0. 0. 1.]]\n"
     ]
    }
   ],
   "source": [
    "# Inicializar vectores\n",
    "print(\"Vector a 0\")\n",
    "print(np.zeros((5,6)))\n",
    "print(\"------------------------------\")\n",
    "\n",
    "# zeros_like\n",
    "print(\"Zeros like\")\n",
    "print(np.zeros_like(b))\n",
    "print(\"------------------------------\")\n",
    "\n",
    "# empty\n",
    "print(\"Empty\")\n",
    "print(np.empty((2,4)))\n",
    "print(\"------------------------------\")\n",
    "\n",
    "# Eye\n",
    "print(\"Eye\")\n",
    "print(np.eye(4))"
   ]
  },
  {
   "cell_type": "markdown",
   "metadata": {},
   "source": [
    "**Vectores multidimensionales con Numpy**"
   ]
  },
  {
   "cell_type": "code",
   "execution_count": 41,
   "metadata": {},
   "outputs": [
    {
     "name": "stdout",
     "output_type": "stream",
     "text": [
      "diap Arange\n",
      "[[0 0 0 0 0]\n",
      " [0 1 0 0 0]\n",
      " [0 0 2 0 0]\n",
      " [0 0 0 3 0]\n",
      " [0 0 0 0 4]]\n",
      "-------------\n",
      "Arange\n",
      "[0 1 2]\n",
      "-------------\n",
      "Title Array\n",
      "[[3 4 3 4]\n",
      " [5 6 5 6]\n",
      " [3 4 3 4]\n",
      " [5 6 5 6]]\n",
      "-------------\n",
      "Reshape\n",
      "[[0 1]\n",
      " [2 3]]\n"
     ]
    }
   ],
   "source": [
    "# Secuencias\n",
    "print(\"diap Arange\")\n",
    "print(np.diag(np.arange(5)))\n",
    "print(\"-------------\")\n",
    "\n",
    "# Arange\n",
    "print(\"Arange\")\n",
    "print(np.arange(3))\n",
    "print(\"-------------\")\n",
    "\n",
    "# Title Array\n",
    "print(\"Title Array\")\n",
    "print(np.tile(np.array([[3,4],[5,6]]), (2,2)))\n",
    "print(\"-------------\")\n",
    "\n",
    "# Reshape\n",
    "print(\"Reshape\")\n",
    "y = np.arange(4).reshape(2,2)\n",
    "print(y)"
   ]
  },
  {
   "cell_type": "markdown",
   "metadata": {},
   "source": [
    "**Inicializando los valores según las interaciones**"
   ]
  },
  {
   "cell_type": "code",
   "execution_count": 43,
   "metadata": {},
   "outputs": [
    {
     "name": "stdout",
     "output_type": "stream",
     "text": [
      "Usar una Lista para crear una Matriz\n",
      "[[ 0  1  2]\n",
      " [10 11 12]\n",
      " [20 21 22]\n",
      " [30 31 32]]\n"
     ]
    }
   ],
   "source": [
    "# Usar una Lista para crear una Matriz\n",
    "c = np.array([[10*j+i for i in range(3)] for j in range(4)])\n",
    "print(c)"
   ]
  },
  {
   "cell_type": "code",
   "execution_count": 45,
   "metadata": {},
   "outputs": [
    {
     "name": "stdout",
     "output_type": "stream",
     "text": [
      "[ 0.  3.  6.  9. 12.]\n",
      "[[ 0.]\n",
      " [ 3.]\n",
      " [ 6.]\n",
      " [ 9.]\n",
      " [12.]]\n"
     ]
    }
   ],
   "source": [
    "# Genera 5 puntos equiespaciados entre 0 y 12\n",
    "v = np.linspace(0,12,5)\n",
    "print(v)\n",
    "print(v[:, np.newaxis])"
   ]
  },
  {
   "cell_type": "code",
   "execution_count": 46,
   "metadata": {},
   "outputs": [
    {
     "name": "stdout",
     "output_type": "stream",
     "text": [
      "[[0 0 0 0 0]\n",
      " [1 1 1 1 1]\n",
      " [2 2 2 2 2]\n",
      " [3 3 3 3 3]\n",
      " [4 4 4 4 4]]\n",
      "-------------------\n",
      "[[0 1 2 3 4]\n",
      " [0 1 2 3 4]\n",
      " [0 1 2 3 4]\n",
      " [0 1 2 3 4]\n",
      " [0 1 2 3 4]]\n"
     ]
    }
   ],
   "source": [
    "# Meshgrid en Python\n",
    "X, Y = np.mgrid[0:5, 0:5]\n",
    "print(X)\n",
    "print(\"-------------------\")\n",
    "print(Y)"
   ]
  },
  {
   "cell_type": "markdown",
   "metadata": {},
   "source": [
    "**Matrices Dispersas**"
   ]
  },
  {
   "cell_type": "code",
   "execution_count": 50,
   "metadata": {},
   "outputs": [
    {
     "name": "stdout",
     "output_type": "stream",
     "text": [
      "[[0.88662166 0.         0.         0.95175314 0.         0.        ]\n",
      " [0.         0.         0.         0.         0.         0.86175951]\n",
      " [0.92156149 0.         0.         0.         0.         0.        ]\n",
      " [0.         0.         0.         0.         0.         0.        ]\n",
      " [0.         0.         0.91663323 0.         0.         0.        ]]\n",
      "  (0, 0)\t0.8866216562272009\n",
      "  (0, 3)\t0.9517531379983346\n",
      "  (1, 5)\t0.8617595148661731\n",
      "  (2, 0)\t0.921561485905663\n",
      "  (4, 2)\t0.9166332293551461\n",
      "---------------------------------------------------------\n",
      "[[0.88662166 0.         0.         0.95175314 0.         0.        ]\n",
      " [0.         0.         0.         0.         0.         0.86175951]\n",
      " [0.92156149 0.         0.         0.         0.         0.        ]\n",
      " [0.         0.         0.         0.         0.         0.        ]\n",
      " [0.         0.         0.91663323 0.         0.         0.        ]]\n"
     ]
    }
   ],
   "source": [
    "# Matrices Dispercias.\n",
    "from scipy import sparse\n",
    "X = np.random.random((5,6))\n",
    "X[X < 0.85] = 0\n",
    "print(X)\n",
    "X_csr = sparse.csr_matrix(X)\n",
    "print(X_csr)\n",
    "print(\"---------------------------------------------------------\")\n",
    "print(X_csr.toarray())"
   ]
  },
  {
   "cell_type": "markdown",
   "metadata": {},
   "source": [
    "**Inicialización de Matrices con Números Aleatorios.**"
   ]
  },
  {
   "cell_type": "code",
   "execution_count": 66,
   "metadata": {},
   "outputs": [
    {
     "name": "stdout",
     "output_type": "stream",
     "text": [
      "[1 1 1]\n",
      "Rounding\n",
      "[1. 2. 2. 2. 4. 4.]\n",
      "[1 2 2 2 4 4]\n"
     ]
    }
   ],
   "source": [
    "np.random.seed(35648)\n",
    "np.random.rand(4,5)\n",
    "\n",
    "# Cambio a Entero\n",
    "a = np.array([1.7, 1.2, 1.6])\n",
    "b = a.astype(int)\n",
    "print(b)\n",
    "\n",
    "#Rounding\n",
    "a = np.array([1.2, 1.5, 1.6, 2.5, 3.5, 4.5])\n",
    "b = np.around(a)\n",
    "print(\"Rounding\")\n",
    "print(b)\n",
    "c = np.around(a).astype(int)\n",
    "print(c)"
   ]
  },
  {
   "cell_type": "markdown",
   "metadata": {},
   "source": [
    "**Broadcasting en Python**"
   ]
  },
  {
   "cell_type": "code",
   "execution_count": 75,
   "metadata": {},
   "outputs": [
    {
     "name": "stdout",
     "output_type": "stream",
     "text": [
      "Producto\n",
      "[2. 4. 6.]\n",
      "Suma\n",
      "[[ 2.  6.  7.]\n",
      " [ 6. 14. 19.]\n",
      " [17. 22. 20.]\n",
      " [22. 30. 35.]]\n"
     ]
    }
   ],
   "source": [
    "from numpy import array\n",
    "a = array([1.0,2.0,3.0])\n",
    "b = array([2.0,2.0,2.0])\n",
    "print(\"Producto\")\n",
    "print(a * b)\n",
    "\n",
    "print(\"Suma\")\n",
    "x = ([[0.0, 0.0, 0.0],\n",
    "      [4.0,8.0,12.0],\n",
    "      [15.0,16.0,13.0],\n",
    "      [20.0,24.0,28.0]])\n",
    "y = array([2.0,6.0,7.0])\n",
    "print(x+y)"
   ]
  },
  {
   "cell_type": "markdown",
   "metadata": {},
   "source": [
    "**Matrices Transpuesta**"
   ]
  },
  {
   "cell_type": "code",
   "execution_count": 83,
   "metadata": {},
   "outputs": [
    {
     "name": "stdout",
     "output_type": "stream",
     "text": [
      "Expansión Escalar\n",
      "[[0.0, 0.0, 0.0], [4.0, 8.0, 12.0], [15.0, 16.0, 13.0], [20.0, 24.0, 28.0], [0.0, 0.0, 0.0], [4.0, 8.0, 12.0], [15.0, 16.0, 13.0], [20.0, 24.0, 28.0]]\n",
      "--------------------------\n",
      "Determinante\n",
      "-2.0\n"
     ]
    }
   ],
   "source": [
    "# Expansión Escalar\n",
    "print(\"Expansión Escalar\")\n",
    "print(x*2)\n"
   ]
  },
  {
   "cell_type": "markdown",
   "metadata": {},
   "source": [
    "**Calculo del Determinante y Matriz Inversa**"
   ]
  },
  {
   "cell_type": "code",
   "execution_count": 84,
   "metadata": {},
   "outputs": [
    {
     "name": "stdout",
     "output_type": "stream",
     "text": [
      "Determinante\n",
      "-2.0\n",
      "----------------------------\n",
      "Matriz Inversa\n",
      "[[-2.   1. ]\n",
      " [ 1.5 -0.5]]\n"
     ]
    }
   ],
   "source": [
    "# Calculo del Determinante\n",
    "from scipy import linalg\n",
    "arr = np.array([[1,2],\n",
    "                [3,4]])\n",
    "print(\"Determinante\")\n",
    "print(linalg.det(arr))\n",
    "print(\"----------------------------\")\n",
    "\n",
    "# Cálculo de Matriz Inversa\n",
    "print(\"Matriz Inversa\")\n",
    "print(linalg.inv(arr))"
   ]
  },
  {
   "cell_type": "markdown",
   "metadata": {},
   "source": [
    "**Acceso a Datos**"
   ]
  },
  {
   "cell_type": "code",
   "execution_count": 92,
   "metadata": {},
   "outputs": [
    {
     "name": "stdout",
     "output_type": "stream",
     "text": [
      "[[ 0  1  2  3  4  5]\n",
      " [10 11 12 13 14 15]\n",
      " [20 21 22 23 24 25]\n",
      " [30 31 32 33 34 35]\n",
      " [40 41 42 43 44 45]\n",
      " [50 51 52 53 54 55]]\n",
      "-------------------------\n",
      "[3 4]\n",
      "-------------------------\n",
      "[[44 45]\n",
      " [54 55]]\n",
      "-------------------------\n",
      "[ 2 12 22 32 42 52]\n",
      "-------------------------\n",
      "[[20 22 24]\n",
      " [40 42 44]]\n"
     ]
    }
   ],
   "source": [
    "a = np.array([[10*j+i for i in range(6)] for j in range(6)])\n",
    "\n",
    "print(a)\n",
    "print(\"-------------------------\")\n",
    "print(a[0,3:5])\n",
    "print(\"-------------------------\")\n",
    "print(a[4:,4:])\n",
    "print(\"-------------------------\")\n",
    "print(a[:, 2])\n",
    "print(\"-------------------------\")\n",
    "print(a[2::2, ::2])\n",
    "\n",
    "\n",
    "# Copia de una matriz\n",
    "\n",
    "c = np.array(a, copy=True)"
   ]
  },
  {
   "cell_type": "markdown",
   "metadata": {},
   "source": [
    "# **Pandas**"
   ]
  },
  {
   "cell_type": "markdown",
   "metadata": {},
   "source": [
    "**Series en Panda**"
   ]
  },
  {
   "cell_type": "code",
   "execution_count": 98,
   "metadata": {},
   "outputs": [
    {
     "name": "stdout",
     "output_type": "stream",
     "text": [
      "0     5.0\n",
      "1     8.0\n",
      "2    36.0\n",
      "3     NaN\n",
      "4    12.0\n",
      "5     4.0\n",
      "dtype: float64\n"
     ]
    }
   ],
   "source": [
    "import pandas as pd\n",
    "\n",
    "g = pd.Series([5,8,36,np.nan,12,4])\n",
    "print(g)"
   ]
  },
  {
   "cell_type": "markdown",
   "metadata": {},
   "source": [
    "**DataFrames**"
   ]
  },
  {
   "cell_type": "code",
   "execution_count": 103,
   "metadata": {},
   "outputs": [
    {
     "name": "stdout",
     "output_type": "stream",
     "text": [
      "DatetimeIndex(['2020-07-01', '2020-07-02', '2020-07-03', '2020-07-04',\n",
      "               '2020-07-05', '2020-07-06'],\n",
      "              dtype='datetime64[ns]', freq='D')\n"
     ]
    }
   ],
   "source": [
    "dates = pd.date_range(\"20200701\", periods=6)\n",
    "print(dates)"
   ]
  },
  {
   "cell_type": "code",
   "execution_count": 115,
   "metadata": {},
   "outputs": [
    {
     "data": {
      "text/html": [
       "<div>\n",
       "<style scoped>\n",
       "    .dataframe tbody tr th:only-of-type {\n",
       "        vertical-align: middle;\n",
       "    }\n",
       "\n",
       "    .dataframe tbody tr th {\n",
       "        vertical-align: top;\n",
       "    }\n",
       "\n",
       "    .dataframe thead th {\n",
       "        text-align: right;\n",
       "    }\n",
       "</style>\n",
       "<table border=\"1\" class=\"dataframe\">\n",
       "  <thead>\n",
       "    <tr style=\"text-align: right;\">\n",
       "      <th></th>\n",
       "      <th>A</th>\n",
       "      <th>B</th>\n",
       "      <th>C</th>\n",
       "      <th>D</th>\n",
       "    </tr>\n",
       "  </thead>\n",
       "  <tbody>\n",
       "    <tr>\n",
       "      <th>2020-07-01</th>\n",
       "      <td>0.296387</td>\n",
       "      <td>0.265051</td>\n",
       "      <td>0.383120</td>\n",
       "      <td>-0.137702</td>\n",
       "    </tr>\n",
       "    <tr>\n",
       "      <th>2020-07-02</th>\n",
       "      <td>0.308150</td>\n",
       "      <td>0.743012</td>\n",
       "      <td>-0.138011</td>\n",
       "      <td>0.836963</td>\n",
       "    </tr>\n",
       "    <tr>\n",
       "      <th>2020-07-03</th>\n",
       "      <td>0.416601</td>\n",
       "      <td>-0.997547</td>\n",
       "      <td>0.016544</td>\n",
       "      <td>-0.898879</td>\n",
       "    </tr>\n",
       "    <tr>\n",
       "      <th>2020-07-04</th>\n",
       "      <td>1.324591</td>\n",
       "      <td>-0.631341</td>\n",
       "      <td>2.150599</td>\n",
       "      <td>1.122952</td>\n",
       "    </tr>\n",
       "    <tr>\n",
       "      <th>2020-07-05</th>\n",
       "      <td>-0.422446</td>\n",
       "      <td>0.637017</td>\n",
       "      <td>-0.931254</td>\n",
       "      <td>-0.564938</td>\n",
       "    </tr>\n",
       "    <tr>\n",
       "      <th>2020-07-06</th>\n",
       "      <td>-0.829534</td>\n",
       "      <td>0.724363</td>\n",
       "      <td>1.277341</td>\n",
       "      <td>-0.406137</td>\n",
       "    </tr>\n",
       "  </tbody>\n",
       "</table>\n",
       "</div>"
      ],
      "text/plain": [
       "                   A         B         C         D\n",
       "2020-07-01  0.296387  0.265051  0.383120 -0.137702\n",
       "2020-07-02  0.308150  0.743012 -0.138011  0.836963\n",
       "2020-07-03  0.416601 -0.997547  0.016544 -0.898879\n",
       "2020-07-04  1.324591 -0.631341  2.150599  1.122952\n",
       "2020-07-05 -0.422446  0.637017 -0.931254 -0.564938\n",
       "2020-07-06 -0.829534  0.724363  1.277341 -0.406137"
      ]
     },
     "execution_count": 115,
     "metadata": {},
     "output_type": "execute_result"
    }
   ],
   "source": [
    "\n",
    "df = pd.DataFrame(np.random.randn(6, 4), index=dates, columns=list('ABCD'))\n",
    "df"
   ]
  },
  {
   "cell_type": "code",
   "execution_count": 114,
   "metadata": {},
   "outputs": [
    {
     "data": {
      "text/html": [
       "<div>\n",
       "<style scoped>\n",
       "    .dataframe tbody tr th:only-of-type {\n",
       "        vertical-align: middle;\n",
       "    }\n",
       "\n",
       "    .dataframe tbody tr th {\n",
       "        vertical-align: top;\n",
       "    }\n",
       "\n",
       "    .dataframe thead th {\n",
       "        text-align: right;\n",
       "    }\n",
       "</style>\n",
       "<table border=\"1\" class=\"dataframe\">\n",
       "  <thead>\n",
       "    <tr style=\"text-align: right;\">\n",
       "      <th></th>\n",
       "      <th>A</th>\n",
       "      <th>B</th>\n",
       "      <th>C</th>\n",
       "      <th>D</th>\n",
       "      <th>E</th>\n",
       "      <th>F</th>\n",
       "    </tr>\n",
       "  </thead>\n",
       "  <tbody>\n",
       "    <tr>\n",
       "      <th>0</th>\n",
       "      <td>14.0</td>\n",
       "      <td>2020-07-01</td>\n",
       "      <td>1.0</td>\n",
       "      <td>3</td>\n",
       "      <td>arbol</td>\n",
       "      <td>pez</td>\n",
       "    </tr>\n",
       "    <tr>\n",
       "      <th>1</th>\n",
       "      <td>14.0</td>\n",
       "      <td>2020-07-01</td>\n",
       "      <td>1.0</td>\n",
       "      <td>3</td>\n",
       "      <td>pc</td>\n",
       "      <td>pez</td>\n",
       "    </tr>\n",
       "    <tr>\n",
       "      <th>2</th>\n",
       "      <td>14.0</td>\n",
       "      <td>2020-07-01</td>\n",
       "      <td>1.0</td>\n",
       "      <td>3</td>\n",
       "      <td>libro</td>\n",
       "      <td>pez</td>\n",
       "    </tr>\n",
       "    <tr>\n",
       "      <th>3</th>\n",
       "      <td>14.0</td>\n",
       "      <td>2020-07-01</td>\n",
       "      <td>1.0</td>\n",
       "      <td>3</td>\n",
       "      <td>carro</td>\n",
       "      <td>pez</td>\n",
       "    </tr>\n",
       "  </tbody>\n",
       "</table>\n",
       "</div>"
      ],
      "text/plain": [
       "      A          B    C  D      E    F\n",
       "0  14.0 2020-07-01  1.0  3  arbol  pez\n",
       "1  14.0 2020-07-01  1.0  3     pc  pez\n",
       "2  14.0 2020-07-01  1.0  3  libro  pez\n",
       "3  14.0 2020-07-01  1.0  3  carro  pez"
      ]
     },
     "execution_count": 114,
     "metadata": {},
     "output_type": "execute_result"
    }
   ],
   "source": [
    "# DataFrame con Tipo de datos variados\n",
    "df2 = pd.DataFrame({'A': 14.,\n",
    "                   'B': pd.Timestamp('20200701'),\n",
    "                   'C': pd.Series(1, index=list(range(4)), dtype='float32'),\n",
    "                   'D': np.array([3] * 4, dtype='int32'),\n",
    "                   'E': pd.Categorical([\"arbol\", \"pc\", \"libro\", \"carro\"]),\n",
    "                   'F': 'pez'})\n",
    "df2"
   ]
  },
  {
   "cell_type": "markdown",
   "metadata": {},
   "source": [
    "**Utilidades para describir el dataset**"
   ]
  },
  {
   "cell_type": "code",
   "execution_count": 123,
   "metadata": {},
   "outputs": [
    {
     "name": "stdout",
     "output_type": "stream",
     "text": [
      "Index\n",
      "DatetimeIndex(['2020-07-01', '2020-07-02', '2020-07-03', '2020-07-04',\n",
      "               '2020-07-05', '2020-07-06'],\n",
      "              dtype='datetime64[ns]', freq='D')\n",
      "--------------------------------------------------\n",
      "Columnas\n",
      "Index(['A', 'B', 'C', 'D'], dtype='object')\n",
      "--------------------------------------------------\n",
      "Valores\n",
      "[[ 0.29638673  0.26505072  0.38312025 -0.13770166]\n",
      " [ 0.30814985  0.74301184 -0.13801132  0.83696258]\n",
      " [ 0.41660117 -0.99754699  0.01654435 -0.89887867]\n",
      " [ 1.32459056 -0.63134063  2.15059905  1.12295227]\n",
      " [-0.42244558  0.63701718 -0.93125353 -0.56493795]\n",
      " [-0.82953375  0.72436254  1.27734053 -0.40613654]]\n",
      "--------------------------------------------------\n",
      "Descripción\n"
     ]
    },
    {
     "data": {
      "text/html": [
       "<div>\n",
       "<style scoped>\n",
       "    .dataframe tbody tr th:only-of-type {\n",
       "        vertical-align: middle;\n",
       "    }\n",
       "\n",
       "    .dataframe tbody tr th {\n",
       "        vertical-align: top;\n",
       "    }\n",
       "\n",
       "    .dataframe thead th {\n",
       "        text-align: right;\n",
       "    }\n",
       "</style>\n",
       "<table border=\"1\" class=\"dataframe\">\n",
       "  <thead>\n",
       "    <tr style=\"text-align: right;\">\n",
       "      <th></th>\n",
       "      <th>A</th>\n",
       "      <th>B</th>\n",
       "      <th>C</th>\n",
       "      <th>D</th>\n",
       "    </tr>\n",
       "  </thead>\n",
       "  <tbody>\n",
       "    <tr>\n",
       "      <th>count</th>\n",
       "      <td>6.000000</td>\n",
       "      <td>6.000000</td>\n",
       "      <td>6.000000</td>\n",
       "      <td>6.000000</td>\n",
       "    </tr>\n",
       "    <tr>\n",
       "      <th>mean</th>\n",
       "      <td>0.182291</td>\n",
       "      <td>0.123426</td>\n",
       "      <td>0.459723</td>\n",
       "      <td>-0.007957</td>\n",
       "    </tr>\n",
       "    <tr>\n",
       "      <th>std</th>\n",
       "      <td>0.745400</td>\n",
       "      <td>0.755658</td>\n",
       "      <td>1.097446</td>\n",
       "      <td>0.808974</td>\n",
       "    </tr>\n",
       "    <tr>\n",
       "      <th>min</th>\n",
       "      <td>-0.829534</td>\n",
       "      <td>-0.997547</td>\n",
       "      <td>-0.931254</td>\n",
       "      <td>-0.898879</td>\n",
       "    </tr>\n",
       "    <tr>\n",
       "      <th>25%</th>\n",
       "      <td>-0.242738</td>\n",
       "      <td>-0.407243</td>\n",
       "      <td>-0.099372</td>\n",
       "      <td>-0.525238</td>\n",
       "    </tr>\n",
       "    <tr>\n",
       "      <th>50%</th>\n",
       "      <td>0.302268</td>\n",
       "      <td>0.451034</td>\n",
       "      <td>0.199832</td>\n",
       "      <td>-0.271919</td>\n",
       "    </tr>\n",
       "    <tr>\n",
       "      <th>75%</th>\n",
       "      <td>0.389488</td>\n",
       "      <td>0.702526</td>\n",
       "      <td>1.053785</td>\n",
       "      <td>0.593297</td>\n",
       "    </tr>\n",
       "    <tr>\n",
       "      <th>max</th>\n",
       "      <td>1.324591</td>\n",
       "      <td>0.743012</td>\n",
       "      <td>2.150599</td>\n",
       "      <td>1.122952</td>\n",
       "    </tr>\n",
       "  </tbody>\n",
       "</table>\n",
       "</div>"
      ],
      "text/plain": [
       "              A         B         C         D\n",
       "count  6.000000  6.000000  6.000000  6.000000\n",
       "mean   0.182291  0.123426  0.459723 -0.007957\n",
       "std    0.745400  0.755658  1.097446  0.808974\n",
       "min   -0.829534 -0.997547 -0.931254 -0.898879\n",
       "25%   -0.242738 -0.407243 -0.099372 -0.525238\n",
       "50%    0.302268  0.451034  0.199832 -0.271919\n",
       "75%    0.389488  0.702526  1.053785  0.593297\n",
       "max    1.324591  0.743012  2.150599  1.122952"
      ]
     },
     "execution_count": 123,
     "metadata": {},
     "output_type": "execute_result"
    }
   ],
   "source": [
    "i = df.index\n",
    "print(\"Index\")\n",
    "print(i)\n",
    "print(\"--------------------------------------------------\")\n",
    "\n",
    "print(\"Columnas\")\n",
    "c = df.columns\n",
    "print(c)\n",
    "print(\"--------------------------------------------------\")\n",
    "\n",
    "print(\"Valores\")\n",
    "v = df.values\n",
    "print(v)\n",
    "print(\"--------------------------------------------------\")\n",
    "\n",
    "print(\"Descripción\")\n",
    "d = df.describe()\n",
    "d"
   ]
  },
  {
   "cell_type": "markdown",
   "metadata": {},
   "source": [
    "**Transposición y Ordenación**"
   ]
  },
  {
   "cell_type": "code",
   "execution_count": 126,
   "metadata": {},
   "outputs": [
    {
     "data": {
      "text/html": [
       "<div>\n",
       "<style scoped>\n",
       "    .dataframe tbody tr th:only-of-type {\n",
       "        vertical-align: middle;\n",
       "    }\n",
       "\n",
       "    .dataframe tbody tr th {\n",
       "        vertical-align: top;\n",
       "    }\n",
       "\n",
       "    .dataframe thead th {\n",
       "        text-align: right;\n",
       "    }\n",
       "</style>\n",
       "<table border=\"1\" class=\"dataframe\">\n",
       "  <thead>\n",
       "    <tr style=\"text-align: right;\">\n",
       "      <th></th>\n",
       "      <th>2020-07-01</th>\n",
       "      <th>2020-07-02</th>\n",
       "      <th>2020-07-03</th>\n",
       "      <th>2020-07-04</th>\n",
       "      <th>2020-07-05</th>\n",
       "      <th>2020-07-06</th>\n",
       "    </tr>\n",
       "  </thead>\n",
       "  <tbody>\n",
       "    <tr>\n",
       "      <th>A</th>\n",
       "      <td>0.296387</td>\n",
       "      <td>0.308150</td>\n",
       "      <td>0.416601</td>\n",
       "      <td>1.324591</td>\n",
       "      <td>-0.422446</td>\n",
       "      <td>-0.829534</td>\n",
       "    </tr>\n",
       "    <tr>\n",
       "      <th>B</th>\n",
       "      <td>0.265051</td>\n",
       "      <td>0.743012</td>\n",
       "      <td>-0.997547</td>\n",
       "      <td>-0.631341</td>\n",
       "      <td>0.637017</td>\n",
       "      <td>0.724363</td>\n",
       "    </tr>\n",
       "    <tr>\n",
       "      <th>C</th>\n",
       "      <td>0.383120</td>\n",
       "      <td>-0.138011</td>\n",
       "      <td>0.016544</td>\n",
       "      <td>2.150599</td>\n",
       "      <td>-0.931254</td>\n",
       "      <td>1.277341</td>\n",
       "    </tr>\n",
       "    <tr>\n",
       "      <th>D</th>\n",
       "      <td>-0.137702</td>\n",
       "      <td>0.836963</td>\n",
       "      <td>-0.898879</td>\n",
       "      <td>1.122952</td>\n",
       "      <td>-0.564938</td>\n",
       "      <td>-0.406137</td>\n",
       "    </tr>\n",
       "  </tbody>\n",
       "</table>\n",
       "</div>"
      ],
      "text/plain": [
       "   2020-07-01  2020-07-02  2020-07-03  2020-07-04  2020-07-05  2020-07-06\n",
       "A    0.296387    0.308150    0.416601    1.324591   -0.422446   -0.829534\n",
       "B    0.265051    0.743012   -0.997547   -0.631341    0.637017    0.724363\n",
       "C    0.383120   -0.138011    0.016544    2.150599   -0.931254    1.277341\n",
       "D   -0.137702    0.836963   -0.898879    1.122952   -0.564938   -0.406137"
      ]
     },
     "execution_count": 126,
     "metadata": {},
     "output_type": "execute_result"
    }
   ],
   "source": [
    "# Transposición\n",
    "df.T"
   ]
  },
  {
   "cell_type": "code",
   "execution_count": 127,
   "metadata": {},
   "outputs": [
    {
     "data": {
      "text/html": [
       "<div>\n",
       "<style scoped>\n",
       "    .dataframe tbody tr th:only-of-type {\n",
       "        vertical-align: middle;\n",
       "    }\n",
       "\n",
       "    .dataframe tbody tr th {\n",
       "        vertical-align: top;\n",
       "    }\n",
       "\n",
       "    .dataframe thead th {\n",
       "        text-align: right;\n",
       "    }\n",
       "</style>\n",
       "<table border=\"1\" class=\"dataframe\">\n",
       "  <thead>\n",
       "    <tr style=\"text-align: right;\">\n",
       "      <th></th>\n",
       "      <th>D</th>\n",
       "      <th>C</th>\n",
       "      <th>B</th>\n",
       "      <th>A</th>\n",
       "    </tr>\n",
       "  </thead>\n",
       "  <tbody>\n",
       "    <tr>\n",
       "      <th>2020-07-01</th>\n",
       "      <td>-0.137702</td>\n",
       "      <td>0.383120</td>\n",
       "      <td>0.265051</td>\n",
       "      <td>0.296387</td>\n",
       "    </tr>\n",
       "    <tr>\n",
       "      <th>2020-07-02</th>\n",
       "      <td>0.836963</td>\n",
       "      <td>-0.138011</td>\n",
       "      <td>0.743012</td>\n",
       "      <td>0.308150</td>\n",
       "    </tr>\n",
       "    <tr>\n",
       "      <th>2020-07-03</th>\n",
       "      <td>-0.898879</td>\n",
       "      <td>0.016544</td>\n",
       "      <td>-0.997547</td>\n",
       "      <td>0.416601</td>\n",
       "    </tr>\n",
       "    <tr>\n",
       "      <th>2020-07-04</th>\n",
       "      <td>1.122952</td>\n",
       "      <td>2.150599</td>\n",
       "      <td>-0.631341</td>\n",
       "      <td>1.324591</td>\n",
       "    </tr>\n",
       "    <tr>\n",
       "      <th>2020-07-05</th>\n",
       "      <td>-0.564938</td>\n",
       "      <td>-0.931254</td>\n",
       "      <td>0.637017</td>\n",
       "      <td>-0.422446</td>\n",
       "    </tr>\n",
       "    <tr>\n",
       "      <th>2020-07-06</th>\n",
       "      <td>-0.406137</td>\n",
       "      <td>1.277341</td>\n",
       "      <td>0.724363</td>\n",
       "      <td>-0.829534</td>\n",
       "    </tr>\n",
       "  </tbody>\n",
       "</table>\n",
       "</div>"
      ],
      "text/plain": [
       "                   D         C         B         A\n",
       "2020-07-01 -0.137702  0.383120  0.265051  0.296387\n",
       "2020-07-02  0.836963 -0.138011  0.743012  0.308150\n",
       "2020-07-03 -0.898879  0.016544 -0.997547  0.416601\n",
       "2020-07-04  1.122952  2.150599 -0.631341  1.324591\n",
       "2020-07-05 -0.564938 -0.931254  0.637017 -0.422446\n",
       "2020-07-06 -0.406137  1.277341  0.724363 -0.829534"
      ]
     },
     "execution_count": 127,
     "metadata": {},
     "output_type": "execute_result"
    }
   ],
   "source": [
    "# Ordenación\n",
    "df.sort_index(axis=1, ascending=False)"
   ]
  },
  {
   "cell_type": "code",
   "execution_count": 128,
   "metadata": {},
   "outputs": [
    {
     "data": {
      "text/html": [
       "<div>\n",
       "<style scoped>\n",
       "    .dataframe tbody tr th:only-of-type {\n",
       "        vertical-align: middle;\n",
       "    }\n",
       "\n",
       "    .dataframe tbody tr th {\n",
       "        vertical-align: top;\n",
       "    }\n",
       "\n",
       "    .dataframe thead th {\n",
       "        text-align: right;\n",
       "    }\n",
       "</style>\n",
       "<table border=\"1\" class=\"dataframe\">\n",
       "  <thead>\n",
       "    <tr style=\"text-align: right;\">\n",
       "      <th></th>\n",
       "      <th>A</th>\n",
       "      <th>B</th>\n",
       "      <th>C</th>\n",
       "      <th>D</th>\n",
       "    </tr>\n",
       "  </thead>\n",
       "  <tbody>\n",
       "    <tr>\n",
       "      <th>2020-07-01</th>\n",
       "      <td>0.296387</td>\n",
       "      <td>0.265051</td>\n",
       "      <td>0.383120</td>\n",
       "      <td>-0.137702</td>\n",
       "    </tr>\n",
       "    <tr>\n",
       "      <th>2020-07-02</th>\n",
       "      <td>0.308150</td>\n",
       "      <td>0.743012</td>\n",
       "      <td>-0.138011</td>\n",
       "      <td>0.836963</td>\n",
       "    </tr>\n",
       "    <tr>\n",
       "      <th>2020-07-03</th>\n",
       "      <td>0.416601</td>\n",
       "      <td>-0.997547</td>\n",
       "      <td>0.016544</td>\n",
       "      <td>-0.898879</td>\n",
       "    </tr>\n",
       "    <tr>\n",
       "      <th>2020-07-04</th>\n",
       "      <td>1.324591</td>\n",
       "      <td>-0.631341</td>\n",
       "      <td>2.150599</td>\n",
       "      <td>1.122952</td>\n",
       "    </tr>\n",
       "    <tr>\n",
       "      <th>2020-07-05</th>\n",
       "      <td>-0.422446</td>\n",
       "      <td>0.637017</td>\n",
       "      <td>-0.931254</td>\n",
       "      <td>-0.564938</td>\n",
       "    </tr>\n",
       "  </tbody>\n",
       "</table>\n",
       "</div>"
      ],
      "text/plain": [
       "                   A         B         C         D\n",
       "2020-07-01  0.296387  0.265051  0.383120 -0.137702\n",
       "2020-07-02  0.308150  0.743012 -0.138011  0.836963\n",
       "2020-07-03  0.416601 -0.997547  0.016544 -0.898879\n",
       "2020-07-04  1.324591 -0.631341  2.150599  1.122952\n",
       "2020-07-05 -0.422446  0.637017 -0.931254 -0.564938"
      ]
     },
     "execution_count": 128,
     "metadata": {},
     "output_type": "execute_result"
    }
   ],
   "source": [
    "# Encabezado\n",
    "df.head()"
   ]
  },
  {
   "cell_type": "code",
   "execution_count": 129,
   "metadata": {},
   "outputs": [
    {
     "data": {
      "text/html": [
       "<div>\n",
       "<style scoped>\n",
       "    .dataframe tbody tr th:only-of-type {\n",
       "        vertical-align: middle;\n",
       "    }\n",
       "\n",
       "    .dataframe tbody tr th {\n",
       "        vertical-align: top;\n",
       "    }\n",
       "\n",
       "    .dataframe thead th {\n",
       "        text-align: right;\n",
       "    }\n",
       "</style>\n",
       "<table border=\"1\" class=\"dataframe\">\n",
       "  <thead>\n",
       "    <tr style=\"text-align: right;\">\n",
       "      <th></th>\n",
       "      <th>A</th>\n",
       "      <th>B</th>\n",
       "      <th>C</th>\n",
       "      <th>D</th>\n",
       "    </tr>\n",
       "  </thead>\n",
       "  <tbody>\n",
       "    <tr>\n",
       "      <th>2020-07-05</th>\n",
       "      <td>-0.422446</td>\n",
       "      <td>0.637017</td>\n",
       "      <td>-0.931254</td>\n",
       "      <td>-0.564938</td>\n",
       "    </tr>\n",
       "    <tr>\n",
       "      <th>2020-07-06</th>\n",
       "      <td>-0.829534</td>\n",
       "      <td>0.724363</td>\n",
       "      <td>1.277341</td>\n",
       "      <td>-0.406137</td>\n",
       "    </tr>\n",
       "  </tbody>\n",
       "</table>\n",
       "</div>"
      ],
      "text/plain": [
       "                   A         B         C         D\n",
       "2020-07-05 -0.422446  0.637017 -0.931254 -0.564938\n",
       "2020-07-06 -0.829534  0.724363  1.277341 -0.406137"
      ]
     },
     "execution_count": 129,
     "metadata": {},
     "output_type": "execute_result"
    }
   ],
   "source": [
    "# Final\n",
    "df.tail(2)"
   ]
  },
  {
   "cell_type": "markdown",
   "metadata": {},
   "source": [
    "**Accediendo a los Datos**"
   ]
  },
  {
   "cell_type": "code",
   "execution_count": 135,
   "metadata": {},
   "outputs": [
    {
     "name": "stdout",
     "output_type": "stream",
     "text": [
      "----------------------------------------------------\n",
      "----------------------------------------------------\n",
      "                   A         B         C         D\n",
      "2020-07-01  0.296387  0.265051  0.383120 -0.137702\n",
      "2020-07-02  0.308150  0.743012 -0.138011  0.836963\n",
      "2020-07-03  0.416601 -0.997547  0.016544 -0.898879\n",
      "2020-07-04  1.324591 -0.631341  2.150599  1.122952\n",
      "2020-07-05 -0.422446  0.637017 -0.931254 -0.564938\n",
      "2020-07-06 -0.829534  0.724363  1.277341 -0.406137\n"
     ]
    }
   ],
   "source": [
    "a = df['A']\n",
    "print(a)\n",
    "print(\"----------------------------------------------------\")\n",
    "\n",
    "w = df[0:3]\n",
    "print(w)\n",
    "print(\"----------------------------------------------------\")\n",
    "\n",
    "q = df[\"20200701\":\"20200710\"]\n",
    "print(q)"
   ]
  },
  {
   "cell_type": "markdown",
   "metadata": {},
   "source": [
    "**Seleccionando valores a través del índice**"
   ]
  },
  {
   "cell_type": "code",
   "execution_count": 142,
   "metadata": {},
   "outputs": [
    {
     "name": "stdout",
     "output_type": "stream",
     "text": [
      "A    0.296387\n",
      "B    0.265051\n",
      "C    0.383120\n",
      "D   -0.137702\n",
      "Name: 2020-07-01 00:00:00, dtype: float64\n",
      "--------------------------------\n",
      "Seleccion por etiqueta\n",
      "                   C         D\n",
      "2020-07-01  0.383120 -0.137702\n",
      "2020-07-02 -0.138011  0.836963\n",
      "2020-07-03  0.016544 -0.898879\n",
      "2020-07-04  2.150599  1.122952\n",
      "2020-07-05 -0.931254 -0.564938\n",
      "2020-07-06  1.277341 -0.406137\n",
      "--------------------------------\n",
      "Seleccion por label slicing\n",
      "                   C         D\n",
      "2020-07-01  0.383120 -0.137702\n",
      "2020-07-02 -0.138011  0.836963\n",
      "2020-07-03  0.016544 -0.898879\n",
      "2020-07-04  2.150599  1.122952\n"
     ]
    }
   ],
   "source": [
    "print(df.loc[dates[0]])\n",
    "print(\"--------------------------------\")\n",
    "\n",
    "# Seleccion por etiqueta\n",
    "print(\"Seleccion por etiqueta\")\n",
    "print(df.loc[:,[\"C\",\"D\"]])\n",
    "print(\"--------------------------------\")\n",
    "\n",
    "# Seleccion por label slicing\n",
    "print(\"Seleccion por label slicing\")\n",
    "print(df.loc['20200701':'20200704',[\"C\",\"D\"]])\n"
   ]
  },
  {
   "cell_type": "markdown",
   "metadata": {},
   "source": [
    "**Accediendo a través de la posición del índice**"
   ]
  },
  {
   "cell_type": "code",
   "execution_count": 148,
   "metadata": {},
   "outputs": [
    {
     "name": "stdout",
     "output_type": "stream",
     "text": [
      "A    1.324591\n",
      "B   -0.631341\n",
      "C    2.150599\n",
      "D    1.122952\n",
      "Name: 2020-07-04 00:00:00, dtype: float64\n",
      "--------------------------------------------\n",
      "                   A         B\n",
      "2020-07-04  1.324591 -0.631341\n",
      "2020-07-05 -0.422446  0.637017\n",
      "--------------------------------------------\n",
      "                   A         C\n",
      "2020-07-02  0.308150 -0.138011\n",
      "2020-07-03  0.416601  0.016544\n",
      "2020-07-05 -0.422446 -0.931254\n"
     ]
    }
   ],
   "source": [
    "print(df.iloc[3])\n",
    "print(\"--------------------------------------------\")\n",
    "\n",
    "print(df.iloc[3:5,0:2])\n",
    "print(\"--------------------------------------------\")\n",
    "\n",
    "\n",
    "print(df.iloc[[1,2,4], [0,2]])"
   ]
  },
  {
   "cell_type": "markdown",
   "metadata": {},
   "source": [
    "**Filtros con Panda**"
   ]
  },
  {
   "cell_type": "code",
   "execution_count": 151,
   "metadata": {},
   "outputs": [
    {
     "data": {
      "text/html": [
       "<div>\n",
       "<style scoped>\n",
       "    .dataframe tbody tr th:only-of-type {\n",
       "        vertical-align: middle;\n",
       "    }\n",
       "\n",
       "    .dataframe tbody tr th {\n",
       "        vertical-align: top;\n",
       "    }\n",
       "\n",
       "    .dataframe thead th {\n",
       "        text-align: right;\n",
       "    }\n",
       "</style>\n",
       "<table border=\"1\" class=\"dataframe\">\n",
       "  <thead>\n",
       "    <tr style=\"text-align: right;\">\n",
       "      <th></th>\n",
       "      <th>A</th>\n",
       "      <th>B</th>\n",
       "      <th>C</th>\n",
       "      <th>D</th>\n",
       "    </tr>\n",
       "  </thead>\n",
       "  <tbody>\n",
       "    <tr>\n",
       "      <th>2020-07-01</th>\n",
       "      <td>0.296387</td>\n",
       "      <td>0.265051</td>\n",
       "      <td>0.383120</td>\n",
       "      <td>-0.137702</td>\n",
       "    </tr>\n",
       "    <tr>\n",
       "      <th>2020-07-02</th>\n",
       "      <td>0.308150</td>\n",
       "      <td>0.743012</td>\n",
       "      <td>-0.138011</td>\n",
       "      <td>0.836963</td>\n",
       "    </tr>\n",
       "    <tr>\n",
       "      <th>2020-07-03</th>\n",
       "      <td>0.416601</td>\n",
       "      <td>-0.997547</td>\n",
       "      <td>0.016544</td>\n",
       "      <td>-0.898879</td>\n",
       "    </tr>\n",
       "    <tr>\n",
       "      <th>2020-07-04</th>\n",
       "      <td>1.324591</td>\n",
       "      <td>-0.631341</td>\n",
       "      <td>2.150599</td>\n",
       "      <td>1.122952</td>\n",
       "    </tr>\n",
       "  </tbody>\n",
       "</table>\n",
       "</div>"
      ],
      "text/plain": [
       "                   A         B         C         D\n",
       "2020-07-01  0.296387  0.265051  0.383120 -0.137702\n",
       "2020-07-02  0.308150  0.743012 -0.138011  0.836963\n",
       "2020-07-03  0.416601 -0.997547  0.016544 -0.898879\n",
       "2020-07-04  1.324591 -0.631341  2.150599  1.122952"
      ]
     },
     "execution_count": 151,
     "metadata": {},
     "output_type": "execute_result"
    }
   ],
   "source": [
    "# Condicionales\n",
    "df[df.A > 0]"
   ]
  },
  {
   "cell_type": "code",
   "execution_count": 152,
   "metadata": {},
   "outputs": [
    {
     "data": {
      "text/html": [
       "<div>\n",
       "<style scoped>\n",
       "    .dataframe tbody tr th:only-of-type {\n",
       "        vertical-align: middle;\n",
       "    }\n",
       "\n",
       "    .dataframe tbody tr th {\n",
       "        vertical-align: top;\n",
       "    }\n",
       "\n",
       "    .dataframe thead th {\n",
       "        text-align: right;\n",
       "    }\n",
       "</style>\n",
       "<table border=\"1\" class=\"dataframe\">\n",
       "  <thead>\n",
       "    <tr style=\"text-align: right;\">\n",
       "      <th></th>\n",
       "      <th>A</th>\n",
       "      <th>B</th>\n",
       "      <th>C</th>\n",
       "      <th>D</th>\n",
       "    </tr>\n",
       "  </thead>\n",
       "  <tbody>\n",
       "    <tr>\n",
       "      <th>2020-07-01</th>\n",
       "      <td>0.296387</td>\n",
       "      <td>0.265051</td>\n",
       "      <td>0.383120</td>\n",
       "      <td>NaN</td>\n",
       "    </tr>\n",
       "    <tr>\n",
       "      <th>2020-07-02</th>\n",
       "      <td>0.308150</td>\n",
       "      <td>0.743012</td>\n",
       "      <td>NaN</td>\n",
       "      <td>0.836963</td>\n",
       "    </tr>\n",
       "    <tr>\n",
       "      <th>2020-07-03</th>\n",
       "      <td>0.416601</td>\n",
       "      <td>NaN</td>\n",
       "      <td>0.016544</td>\n",
       "      <td>NaN</td>\n",
       "    </tr>\n",
       "    <tr>\n",
       "      <th>2020-07-04</th>\n",
       "      <td>1.324591</td>\n",
       "      <td>NaN</td>\n",
       "      <td>2.150599</td>\n",
       "      <td>1.122952</td>\n",
       "    </tr>\n",
       "    <tr>\n",
       "      <th>2020-07-05</th>\n",
       "      <td>NaN</td>\n",
       "      <td>0.637017</td>\n",
       "      <td>NaN</td>\n",
       "      <td>NaN</td>\n",
       "    </tr>\n",
       "    <tr>\n",
       "      <th>2020-07-06</th>\n",
       "      <td>NaN</td>\n",
       "      <td>0.724363</td>\n",
       "      <td>1.277341</td>\n",
       "      <td>NaN</td>\n",
       "    </tr>\n",
       "  </tbody>\n",
       "</table>\n",
       "</div>"
      ],
      "text/plain": [
       "                   A         B         C         D\n",
       "2020-07-01  0.296387  0.265051  0.383120       NaN\n",
       "2020-07-02  0.308150  0.743012       NaN  0.836963\n",
       "2020-07-03  0.416601       NaN  0.016544       NaN\n",
       "2020-07-04  1.324591       NaN  2.150599  1.122952\n",
       "2020-07-05       NaN  0.637017       NaN       NaN\n",
       "2020-07-06       NaN  0.724363  1.277341       NaN"
      ]
     },
     "execution_count": 152,
     "metadata": {},
     "output_type": "execute_result"
    }
   ],
   "source": [
    "# Condicional\n",
    "df[df > 0]"
   ]
  },
  {
   "cell_type": "markdown",
   "metadata": {},
   "source": [
    "**Join con Pandas**"
   ]
  },
  {
   "cell_type": "code",
   "execution_count": 156,
   "metadata": {},
   "outputs": [
    {
     "name": "stdout",
     "output_type": "stream",
     "text": [
      "   key  lval\n",
      "0  foo     1\n",
      "1  foo     2\n",
      "----------------------------------\n",
      "   key  eval\n",
      "0  foo     4\n",
      "1  foo     5\n",
      "----------------------------------\n",
      "   key  lval  eval\n",
      "0  foo     1     4\n",
      "1  foo     1     5\n",
      "2  foo     2     4\n",
      "3  foo     2     5\n"
     ]
    }
   ],
   "source": [
    "# Función Join\n",
    "\n",
    "left = pd.DataFrame({\"key\": [\"foo\",\"foo\"], \"lval\": [1,2]})\n",
    "right = pd.DataFrame({\"key\": [\"foo\",\"foo\"], \"eval\": [4,5]})\n",
    "print(left)\n",
    "print(\"----------------------------------\")\n",
    "print(right)\n",
    "print(\"----------------------------------\")\n",
    "print(pd.merge(left,right, on=\"key\"))"
   ]
  },
  {
   "cell_type": "markdown",
   "metadata": {},
   "source": [
    "**Group by en Pandas**"
   ]
  },
  {
   "cell_type": "code",
   "execution_count": 7,
   "metadata": {},
   "outputs": [
    {
     "data": {
      "text/html": [
       "<div>\n",
       "<style scoped>\n",
       "    .dataframe tbody tr th:only-of-type {\n",
       "        vertical-align: middle;\n",
       "    }\n",
       "\n",
       "    .dataframe tbody tr th {\n",
       "        vertical-align: top;\n",
       "    }\n",
       "\n",
       "    .dataframe thead th {\n",
       "        text-align: right;\n",
       "    }\n",
       "</style>\n",
       "<table border=\"1\" class=\"dataframe\">\n",
       "  <thead>\n",
       "    <tr style=\"text-align: right;\">\n",
       "      <th></th>\n",
       "      <th>A</th>\n",
       "      <th>B</th>\n",
       "      <th>C</th>\n",
       "      <th>D</th>\n",
       "    </tr>\n",
       "  </thead>\n",
       "  <tbody>\n",
       "    <tr>\n",
       "      <th>0</th>\n",
       "      <td>gato</td>\n",
       "      <td>uno</td>\n",
       "      <td>0.599975</td>\n",
       "      <td>-0.082055</td>\n",
       "    </tr>\n",
       "    <tr>\n",
       "      <th>1</th>\n",
       "      <td>perro</td>\n",
       "      <td>dos</td>\n",
       "      <td>0.757931</td>\n",
       "      <td>0.091599</td>\n",
       "    </tr>\n",
       "    <tr>\n",
       "      <th>2</th>\n",
       "      <td>vaca</td>\n",
       "      <td>tres</td>\n",
       "      <td>0.193252</td>\n",
       "      <td>-0.402173</td>\n",
       "    </tr>\n",
       "    <tr>\n",
       "      <th>3</th>\n",
       "      <td>cerdo</td>\n",
       "      <td>cuatro</td>\n",
       "      <td>0.606830</td>\n",
       "      <td>-1.274888</td>\n",
       "    </tr>\n",
       "    <tr>\n",
       "      <th>4</th>\n",
       "      <td>pato</td>\n",
       "      <td>cinco</td>\n",
       "      <td>-0.706047</td>\n",
       "      <td>0.480654</td>\n",
       "    </tr>\n",
       "  </tbody>\n",
       "</table>\n",
       "</div>"
      ],
      "text/plain": [
       "       A       B         C         D\n",
       "0   gato     uno  0.599975 -0.082055\n",
       "1  perro     dos  0.757931  0.091599\n",
       "2   vaca    tres  0.193252 -0.402173\n",
       "3  cerdo  cuatro  0.606830 -1.274888\n",
       "4   pato   cinco -0.706047  0.480654"
      ]
     },
     "execution_count": 7,
     "metadata": {},
     "output_type": "execute_result"
    }
   ],
   "source": [
    "\n",
    "df = pd.DataFrame({\"A\": [\"gato\", \"perro\", \"vaca\", \"cerdo\", \"pato\"],\n",
    "                   \"B\": [\"uno\", \"dos\", \"tres\", \"cuatro\", \"cinco\"],\n",
    "                   \"C\": np.random.randn(5),\n",
    "                   \"D\": np.random.randn(5)})\n",
    "df"
   ]
  },
  {
   "cell_type": "code",
   "execution_count": 8,
   "metadata": {},
   "outputs": [
    {
     "data": {
      "text/html": [
       "<div>\n",
       "<style scoped>\n",
       "    .dataframe tbody tr th:only-of-type {\n",
       "        vertical-align: middle;\n",
       "    }\n",
       "\n",
       "    .dataframe tbody tr th {\n",
       "        vertical-align: top;\n",
       "    }\n",
       "\n",
       "    .dataframe thead th {\n",
       "        text-align: right;\n",
       "    }\n",
       "</style>\n",
       "<table border=\"1\" class=\"dataframe\">\n",
       "  <thead>\n",
       "    <tr style=\"text-align: right;\">\n",
       "      <th></th>\n",
       "      <th>C</th>\n",
       "      <th>D</th>\n",
       "    </tr>\n",
       "    <tr>\n",
       "      <th>A</th>\n",
       "      <th></th>\n",
       "      <th></th>\n",
       "    </tr>\n",
       "  </thead>\n",
       "  <tbody>\n",
       "    <tr>\n",
       "      <th>cerdo</th>\n",
       "      <td>0.606830</td>\n",
       "      <td>-1.274888</td>\n",
       "    </tr>\n",
       "    <tr>\n",
       "      <th>gato</th>\n",
       "      <td>0.599975</td>\n",
       "      <td>-0.082055</td>\n",
       "    </tr>\n",
       "    <tr>\n",
       "      <th>pato</th>\n",
       "      <td>-0.706047</td>\n",
       "      <td>0.480654</td>\n",
       "    </tr>\n",
       "    <tr>\n",
       "      <th>perro</th>\n",
       "      <td>0.757931</td>\n",
       "      <td>0.091599</td>\n",
       "    </tr>\n",
       "    <tr>\n",
       "      <th>vaca</th>\n",
       "      <td>0.193252</td>\n",
       "      <td>-0.402173</td>\n",
       "    </tr>\n",
       "  </tbody>\n",
       "</table>\n",
       "</div>"
      ],
      "text/plain": [
       "              C         D\n",
       "A                        \n",
       "cerdo  0.606830 -1.274888\n",
       "gato   0.599975 -0.082055\n",
       "pato  -0.706047  0.480654\n",
       "perro  0.757931  0.091599\n",
       "vaca   0.193252 -0.402173"
      ]
     },
     "execution_count": 8,
     "metadata": {},
     "output_type": "execute_result"
    }
   ],
   "source": [
    "# Aplicando la funcion Agrupar\n",
    "\n",
    "df.groupby(\"A\").sum()"
   ]
  },
  {
   "cell_type": "markdown",
   "metadata": {},
   "source": [
    "# **Regresión Lineal con Python**"
   ]
  },
  {
   "cell_type": "code",
   "execution_count": 12,
   "metadata": {},
   "outputs": [
    {
     "name": "stdout",
     "output_type": "stream",
     "text": [
      "Coefficients: \n",
      " [938.23786125]\n",
      "Mean squared error: 2548.07\n",
      "Coefficient of determination: 0.47\n"
     ]
    },
    {
     "data": {
      "image/png": "[encoded data removed]",
      "text/plain": [
       "<Figure size 432x288 with 1 Axes>"
      ]
     },
     "metadata": {},
     "output_type": "display_data"
    }
   ],
   "source": [
    "import matplotlib.pyplot as plt\n",
    "import numpy as np\n",
    "from sklearn import datasets, linear_model\n",
    "from sklearn.metrics import mean_squared_error, r2_score\n",
    "\n",
    "diabetes_X, diabetes_y = datasets.load_diabetes(return_X_y=True)\n",
    "\n",
    "diabetes_X = diabetes_X[:, np.newaxis, 2]\n",
    "\n",
    "diabetes_X_train = diabetes_X[:-20]\n",
    "diabetes_X_test = diabetes_X[-20:]\n",
    "\n",
    "diabetes_y_train = diabetes_y[:-20]\n",
    "diabetes_y_test = diabetes_y[-20:]\n",
    "\n",
    "# Crea una linea de regresión\n",
    "regr = linear_model.LinearRegression()\n",
    "\n",
    "# T\n",
    "regr.fit(diabetes_X_train, diabetes_y_train)\n",
    "\n",
    "# Realiza predicciones\n",
    "diabetes_y_pred = regr.predict(diabetes_X_test)\n",
    "\n",
    "# Los coeficientes\n",
    "print('Coefficients: \\n', regr.coef_)\n",
    "\n",
    "# Calcula el porcentaje del error\n",
    "print('Mean squared error: %.2f'\n",
    "      % mean_squared_error(diabetes_y_test, diabetes_y_pred))\n",
    "\n",
    "print('Coefficient of determination: %.2f'\n",
    "      % r2_score(diabetes_y_test, diabetes_y_pred))\n",
    "\n",
    "# Grafica la linea de Regresión\n",
    "plt.scatter(diabetes_X_test, diabetes_y_test,  color='black')\n",
    "plt.plot(diabetes_X_test, diabetes_y_pred, color='blue', linewidth=3)\n",
    "\n",
    "plt.xticks(())\n",
    "plt.yticks(())\n",
    "\n",
    "plt.show()"
   ]
  },
  {
   "cell_type": "markdown",
   "metadata": {},
   "source": [
    "**Elaborado por: Kenny Cruz García**"
   ]
  },
  {
   "cell_type": "code",
   "execution_count": null,
   "metadata": {},
   "outputs": [],
   "source": []
  }
 ],
 "metadata": {
  "kernelspec": {
   "display_name": "Python 3",
   "language": "python",
   "name": "python3"
  },
  "language_info": {
   "codemirror_mode": {
    "name": "ipython",
    "version": 3
   },
   "file_extension": ".py",
   "mimetype": "text/x-python",
   "name": "python",
   "nbconvert_exporter": "python",
   "pygments_lexer": "ipython3",
   "version": "3.7.6"
  }
 },
 "nbformat": 4,
 "nbformat_minor": 4
}
